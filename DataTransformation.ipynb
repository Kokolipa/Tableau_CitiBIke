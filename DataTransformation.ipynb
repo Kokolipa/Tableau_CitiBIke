{
 "cells": [
  {
   "cell_type": "code",
   "execution_count": 37,
   "metadata": {},
   "outputs": [],
   "source": [
    "import pandas as pd\n",
    "import os\n",
    "from math import radians, sin, cos, sqrt, atan2\n",
    "import zipfile"
   ]
  },
  {
   "cell_type": "code",
   "execution_count": 2,
   "metadata": {},
   "outputs": [
    {
     "name": "stderr",
     "output_type": "stream",
     "text": [
      "/var/folders/06/47q5ms9540g4mnz8nnnyl32m0000gn/T/ipykernel_68040/3597053335.py:9: DtypeWarning: Columns (5,7) have mixed types. Specify dtype option on import or set low_memory=False.\n",
      "  df = pd.read_csv(file_path+file, delimiter=\",\", encoding='utf-8')\n"
     ]
    },
    {
     "data": {
      "text/html": [
       "<div>\n",
       "<style scoped>\n",
       "    .dataframe tbody tr th:only-of-type {\n",
       "        vertical-align: middle;\n",
       "    }\n",
       "\n",
       "    .dataframe tbody tr th {\n",
       "        vertical-align: top;\n",
       "    }\n",
       "\n",
       "    .dataframe thead th {\n",
       "        text-align: right;\n",
       "    }\n",
       "</style>\n",
       "<table border=\"1\" class=\"dataframe\">\n",
       "  <thead>\n",
       "    <tr style=\"text-align: right;\">\n",
       "      <th></th>\n",
       "      <th>ride_id</th>\n",
       "      <th>rideable_type</th>\n",
       "      <th>started_at</th>\n",
       "      <th>ended_at</th>\n",
       "      <th>start_station_name</th>\n",
       "      <th>start_station_id</th>\n",
       "      <th>end_station_name</th>\n",
       "      <th>end_station_id</th>\n",
       "      <th>start_lat</th>\n",
       "      <th>start_lng</th>\n",
       "      <th>end_lat</th>\n",
       "      <th>end_lng</th>\n",
       "      <th>member_casual</th>\n",
       "    </tr>\n",
       "  </thead>\n",
       "  <tbody>\n",
       "    <tr>\n",
       "      <th>0</th>\n",
       "      <td>BC78328130CD8A16</td>\n",
       "      <td>classic_bike</td>\n",
       "      <td>2023-07-16 20:42:57</td>\n",
       "      <td>2023-07-16 20:45:13</td>\n",
       "      <td>St. Nicholas Ave &amp; W 126 St</td>\n",
       "      <td>7756.10</td>\n",
       "      <td>Adam Clayton Powell Blvd &amp; W 126 St</td>\n",
       "      <td>7738.04</td>\n",
       "      <td>40.811432</td>\n",
       "      <td>-73.951878</td>\n",
       "      <td>40.809495</td>\n",
       "      <td>-73.947765</td>\n",
       "      <td>member</td>\n",
       "    </tr>\n",
       "    <tr>\n",
       "      <th>1</th>\n",
       "      <td>71A4DFA231ADAEA2</td>\n",
       "      <td>classic_bike</td>\n",
       "      <td>2023-07-29 12:22:21</td>\n",
       "      <td>2023-07-29 12:26:54</td>\n",
       "      <td>Adam Clayton Powell Blvd &amp; W 118 St</td>\n",
       "      <td>7670.09</td>\n",
       "      <td>Adam Clayton Powell Blvd &amp; W 126 St</td>\n",
       "      <td>7738.04</td>\n",
       "      <td>40.804372</td>\n",
       "      <td>-73.951475</td>\n",
       "      <td>40.809495</td>\n",
       "      <td>-73.947765</td>\n",
       "      <td>member</td>\n",
       "    </tr>\n",
       "    <tr>\n",
       "      <th>2</th>\n",
       "      <td>B64451D0D9F52134</td>\n",
       "      <td>classic_bike</td>\n",
       "      <td>2023-07-30 18:30:18</td>\n",
       "      <td>2023-07-30 18:35:42</td>\n",
       "      <td>St. Nicholas Ave &amp; W 126 St</td>\n",
       "      <td>7756.10</td>\n",
       "      <td>Lenox Ave &amp; W 130 St</td>\n",
       "      <td>7753.13</td>\n",
       "      <td>40.811378</td>\n",
       "      <td>-73.951827</td>\n",
       "      <td>40.810792</td>\n",
       "      <td>-73.943068</td>\n",
       "      <td>member</td>\n",
       "    </tr>\n",
       "    <tr>\n",
       "      <th>3</th>\n",
       "      <td>EEECB3E0E05EB0DB</td>\n",
       "      <td>classic_bike</td>\n",
       "      <td>2023-07-04 19:59:20</td>\n",
       "      <td>2023-07-04 20:02:03</td>\n",
       "      <td>St. Nicholas Ave &amp; W 126 St</td>\n",
       "      <td>7756.10</td>\n",
       "      <td>Adam Clayton Powell Blvd &amp; W 126 St</td>\n",
       "      <td>7738.04</td>\n",
       "      <td>40.811432</td>\n",
       "      <td>-73.951878</td>\n",
       "      <td>40.809495</td>\n",
       "      <td>-73.947765</td>\n",
       "      <td>member</td>\n",
       "    </tr>\n",
       "    <tr>\n",
       "      <th>4</th>\n",
       "      <td>76B706DF4FC180DC</td>\n",
       "      <td>classic_bike</td>\n",
       "      <td>2023-07-03 19:33:36</td>\n",
       "      <td>2023-07-03 19:43:59</td>\n",
       "      <td>St. Nicholas Ave &amp; W 126 St</td>\n",
       "      <td>7756.10</td>\n",
       "      <td>Pleasant Ave &amp; E 116 St</td>\n",
       "      <td>7450.05</td>\n",
       "      <td>40.811543</td>\n",
       "      <td>-73.951813</td>\n",
       "      <td>40.794988</td>\n",
       "      <td>-73.933335</td>\n",
       "      <td>member</td>\n",
       "    </tr>\n",
       "    <tr>\n",
       "      <th>...</th>\n",
       "      <td>...</td>\n",
       "      <td>...</td>\n",
       "      <td>...</td>\n",
       "      <td>...</td>\n",
       "      <td>...</td>\n",
       "      <td>...</td>\n",
       "      <td>...</td>\n",
       "      <td>...</td>\n",
       "      <td>...</td>\n",
       "      <td>...</td>\n",
       "      <td>...</td>\n",
       "      <td>...</td>\n",
       "      <td>...</td>\n",
       "    </tr>\n",
       "    <tr>\n",
       "      <th>3776251</th>\n",
       "      <td>8EB48FBE46A673DF</td>\n",
       "      <td>classic_bike</td>\n",
       "      <td>2023-07-28 19:11:45</td>\n",
       "      <td>2023-07-28 19:38:24</td>\n",
       "      <td>S 4 St &amp; Rodney St</td>\n",
       "      <td>5156.05</td>\n",
       "      <td>Irving Ave &amp; Halsey St</td>\n",
       "      <td>4695.04</td>\n",
       "      <td>40.709340</td>\n",
       "      <td>-73.956080</td>\n",
       "      <td>40.694670</td>\n",
       "      <td>-73.906630</td>\n",
       "      <td>member</td>\n",
       "    </tr>\n",
       "    <tr>\n",
       "      <th>3776252</th>\n",
       "      <td>8B66692B4C236E00</td>\n",
       "      <td>classic_bike</td>\n",
       "      <td>2023-07-11 20:09:42</td>\n",
       "      <td>2023-07-11 20:38:01</td>\n",
       "      <td>Madison Ave &amp; E 120 St</td>\n",
       "      <td>7667.04</td>\n",
       "      <td>Intervale Ave &amp; Westchester Ave</td>\n",
       "      <td>7948.10</td>\n",
       "      <td>40.803026</td>\n",
       "      <td>-73.942863</td>\n",
       "      <td>40.821967</td>\n",
       "      <td>-73.896752</td>\n",
       "      <td>member</td>\n",
       "    </tr>\n",
       "    <tr>\n",
       "      <th>3776253</th>\n",
       "      <td>86E2D896051F1420</td>\n",
       "      <td>classic_bike</td>\n",
       "      <td>2023-07-25 21:05:48</td>\n",
       "      <td>2023-07-25 21:10:15</td>\n",
       "      <td>Windsor Pl &amp; Howard Pl</td>\n",
       "      <td>3579.04</td>\n",
       "      <td>14 St &amp; 5 Ave</td>\n",
       "      <td>3771.06</td>\n",
       "      <td>40.659647</td>\n",
       "      <td>-73.980421</td>\n",
       "      <td>40.666287</td>\n",
       "      <td>-73.988951</td>\n",
       "      <td>member</td>\n",
       "    </tr>\n",
       "    <tr>\n",
       "      <th>3776254</th>\n",
       "      <td>556B12591EC0C385</td>\n",
       "      <td>classic_bike</td>\n",
       "      <td>2023-07-15 13:15:14</td>\n",
       "      <td>2023-07-15 13:25:55</td>\n",
       "      <td>DeKalb Ave &amp; Vanderbilt Ave</td>\n",
       "      <td>4461.04</td>\n",
       "      <td>Broadway &amp; Kent Ave</td>\n",
       "      <td>5134.09</td>\n",
       "      <td>40.689412</td>\n",
       "      <td>-73.968847</td>\n",
       "      <td>40.710888</td>\n",
       "      <td>-73.968329</td>\n",
       "      <td>member</td>\n",
       "    </tr>\n",
       "    <tr>\n",
       "      <th>3776255</th>\n",
       "      <td>1FE35D1565CF12ED</td>\n",
       "      <td>electric_bike</td>\n",
       "      <td>2023-07-05 09:19:00</td>\n",
       "      <td>2023-07-05 09:21:34</td>\n",
       "      <td>E 117 St &amp; 1 Ave</td>\n",
       "      <td>7579.11</td>\n",
       "      <td>E 116 St &amp; 2 Ave</td>\n",
       "      <td>7563.06</td>\n",
       "      <td>40.796568</td>\n",
       "      <td>-73.934595</td>\n",
       "      <td>40.796879</td>\n",
       "      <td>-73.937261</td>\n",
       "      <td>member</td>\n",
       "    </tr>\n",
       "  </tbody>\n",
       "</table>\n",
       "<p>3776256 rows × 13 columns</p>\n",
       "</div>"
      ],
      "text/plain": [
       "                  ride_id  rideable_type           started_at  \\\n",
       "0        BC78328130CD8A16   classic_bike  2023-07-16 20:42:57   \n",
       "1        71A4DFA231ADAEA2   classic_bike  2023-07-29 12:22:21   \n",
       "2        B64451D0D9F52134   classic_bike  2023-07-30 18:30:18   \n",
       "3        EEECB3E0E05EB0DB   classic_bike  2023-07-04 19:59:20   \n",
       "4        76B706DF4FC180DC   classic_bike  2023-07-03 19:33:36   \n",
       "...                   ...            ...                  ...   \n",
       "3776251  8EB48FBE46A673DF   classic_bike  2023-07-28 19:11:45   \n",
       "3776252  8B66692B4C236E00   classic_bike  2023-07-11 20:09:42   \n",
       "3776253  86E2D896051F1420   classic_bike  2023-07-25 21:05:48   \n",
       "3776254  556B12591EC0C385   classic_bike  2023-07-15 13:15:14   \n",
       "3776255  1FE35D1565CF12ED  electric_bike  2023-07-05 09:19:00   \n",
       "\n",
       "                    ended_at                   start_station_name  \\\n",
       "0        2023-07-16 20:45:13          St. Nicholas Ave & W 126 St   \n",
       "1        2023-07-29 12:26:54  Adam Clayton Powell Blvd & W 118 St   \n",
       "2        2023-07-30 18:35:42          St. Nicholas Ave & W 126 St   \n",
       "3        2023-07-04 20:02:03          St. Nicholas Ave & W 126 St   \n",
       "4        2023-07-03 19:43:59          St. Nicholas Ave & W 126 St   \n",
       "...                      ...                                  ...   \n",
       "3776251  2023-07-28 19:38:24                   S 4 St & Rodney St   \n",
       "3776252  2023-07-11 20:38:01               Madison Ave & E 120 St   \n",
       "3776253  2023-07-25 21:10:15               Windsor Pl & Howard Pl   \n",
       "3776254  2023-07-15 13:25:55          DeKalb Ave & Vanderbilt Ave   \n",
       "3776255  2023-07-05 09:21:34                     E 117 St & 1 Ave   \n",
       "\n",
       "        start_station_id                     end_station_name end_station_id  \\\n",
       "0                7756.10  Adam Clayton Powell Blvd & W 126 St        7738.04   \n",
       "1                7670.09  Adam Clayton Powell Blvd & W 126 St        7738.04   \n",
       "2                7756.10                 Lenox Ave & W 130 St        7753.13   \n",
       "3                7756.10  Adam Clayton Powell Blvd & W 126 St        7738.04   \n",
       "4                7756.10              Pleasant Ave & E 116 St        7450.05   \n",
       "...                  ...                                  ...            ...   \n",
       "3776251          5156.05               Irving Ave & Halsey St        4695.04   \n",
       "3776252          7667.04      Intervale Ave & Westchester Ave        7948.10   \n",
       "3776253          3579.04                        14 St & 5 Ave        3771.06   \n",
       "3776254          4461.04                  Broadway & Kent Ave        5134.09   \n",
       "3776255          7579.11                     E 116 St & 2 Ave        7563.06   \n",
       "\n",
       "         start_lat  start_lng    end_lat    end_lng member_casual  \n",
       "0        40.811432 -73.951878  40.809495 -73.947765        member  \n",
       "1        40.804372 -73.951475  40.809495 -73.947765        member  \n",
       "2        40.811378 -73.951827  40.810792 -73.943068        member  \n",
       "3        40.811432 -73.951878  40.809495 -73.947765        member  \n",
       "4        40.811543 -73.951813  40.794988 -73.933335        member  \n",
       "...            ...        ...        ...        ...           ...  \n",
       "3776251  40.709340 -73.956080  40.694670 -73.906630        member  \n",
       "3776252  40.803026 -73.942863  40.821967 -73.896752        member  \n",
       "3776253  40.659647 -73.980421  40.666287 -73.988951        member  \n",
       "3776254  40.689412 -73.968847  40.710888 -73.968329        member  \n",
       "3776255  40.796568 -73.934595  40.796879 -73.937261        member  \n",
       "\n",
       "[3776256 rows x 13 columns]"
      ]
     },
     "execution_count": 2,
     "metadata": {},
     "output_type": "execute_result"
    }
   ],
   "source": [
    "\n",
    "file_path = \"CSVs/\"\n",
    "\n",
    "file_list = os.listdir(file_path)\n",
    "\n",
    "merged_dataset = pd.DataFrame()\n",
    "\n",
    "for file in file_list:\n",
    "    \n",
    "    df = pd.read_csv(file_path+file, delimiter=\",\", encoding='utf-8')\n",
    "\n",
    "    merged_dataset = pd.concat([merged_dataset, df])\n",
    "\n",
    "# Head\n",
    "merged_dataset.drop(columns=['Unnamed: 0'], axis=1, inplace=True)\n",
    "\n",
    "merged_dataset"
   ]
  },
  {
   "cell_type": "code",
   "execution_count": 3,
   "metadata": {},
   "outputs": [
    {
     "data": {
      "text/plain": [
       "(3776256, 13)"
      ]
     },
     "execution_count": 3,
     "metadata": {},
     "output_type": "execute_result"
    }
   ],
   "source": [
    "merged_dataset.shape"
   ]
  },
  {
   "cell_type": "code",
   "execution_count": 4,
   "metadata": {},
   "outputs": [
    {
     "name": "stdout",
     "output_type": "stream",
     "text": [
      "<class 'pandas.core.frame.DataFrame'>\n",
      "Int64Index: 3776256 entries, 0 to 3776255\n",
      "Data columns (total 13 columns):\n",
      " #   Column              Dtype  \n",
      "---  ------              -----  \n",
      " 0   ride_id             object \n",
      " 1   rideable_type       object \n",
      " 2   started_at          object \n",
      " 3   ended_at            object \n",
      " 4   start_station_name  object \n",
      " 5   start_station_id    object \n",
      " 6   end_station_name    object \n",
      " 7   end_station_id      object \n",
      " 8   start_lat           float64\n",
      " 9   start_lng           float64\n",
      " 10  end_lat             float64\n",
      " 11  end_lng             float64\n",
      " 12  member_casual       object \n",
      "dtypes: float64(4), object(9)\n",
      "memory usage: 403.3+ MB\n"
     ]
    }
   ],
   "source": [
    "merged_dataset.info()"
   ]
  },
  {
   "cell_type": "code",
   "execution_count": 23,
   "metadata": {},
   "outputs": [],
   "source": [
    "merged_dataset.dropna(how='all',subset=['distance', 'end_lng', 'end_lat'], inplace=True)"
   ]
  },
  {
   "cell_type": "code",
   "execution_count": 30,
   "metadata": {},
   "outputs": [],
   "source": [
    "merged_dataset.dropna(how='all',subset=['start_station_name', 'start_station_id'], inplace=True)"
   ]
  },
  {
   "cell_type": "code",
   "execution_count": 32,
   "metadata": {},
   "outputs": [],
   "source": [
    "merged_dataset.dropna(how='all',subset=['end_station_name', 'end_station_id'], inplace=True)\n"
   ]
  },
  {
   "cell_type": "code",
   "execution_count": 33,
   "metadata": {},
   "outputs": [
    {
     "data": {
      "text/plain": [
       "ride_id               0\n",
       "rideable_type         0\n",
       "started_at            0\n",
       "ended_at              0\n",
       "start_station_name    0\n",
       "start_station_id      0\n",
       "end_station_name      0\n",
       "end_station_id        0\n",
       "start_lat             0\n",
       "start_lng             0\n",
       "end_lat               0\n",
       "end_lng               0\n",
       "member_casual         0\n",
       "distance              0\n",
       "dtype: int64"
      ]
     },
     "execution_count": 33,
     "metadata": {},
     "output_type": "execute_result"
    }
   ],
   "source": [
    "merged_dataset.isnull().sum()"
   ]
  },
  {
   "cell_type": "code",
   "execution_count": 5,
   "metadata": {},
   "outputs": [],
   "source": [
    "merged_dataset = merged_dataset.astype(\n",
    "    {'start_lat': 'float32',\n",
    "     'start_lng': 'float32',\n",
    "     'end_lat': 'float32',\n",
    "     'end_lng': 'float32'}, \n",
    "    )"
   ]
  },
  {
   "cell_type": "code",
   "execution_count": 14,
   "metadata": {},
   "outputs": [],
   "source": [
    "merged_dataset['started_at'] = pd.to_datetime(\n",
    "    merged_dataset['started_at'],\n",
    "    errors='coerce',\n",
    "    infer_datetime_format=True\n",
    ")"
   ]
  },
  {
   "cell_type": "code",
   "execution_count": 15,
   "metadata": {},
   "outputs": [],
   "source": [
    "merged_dataset['ended_at'] = pd.to_datetime(\n",
    "    merged_dataset['ended_at'],\n",
    "    errors='coerce',\n",
    "    infer_datetime_format=True\n",
    ")"
   ]
  },
  {
   "cell_type": "code",
   "execution_count": 6,
   "metadata": {},
   "outputs": [],
   "source": [
    "# Define the Haversine formula to determine the distance between two geolocations on a sphere given their longtitude and latitude.\n",
    "    # ? Source - Stackoverflow https://stackoverflow.com/questions/4913349/haversine-formula-in-python-bearing-and-distance-between-two-gps-points\n",
    "    # ? Source - Wikipedia https://en.wikipedia.org/wiki/Haversine_formula\n",
    "def haversine(lat1, lon1, lat2, lon2):\n",
    "    # Convert latitude and longitude from degrees to radians\n",
    "    lat1, lon1, lat2, lon2 = map(radians, [lat1, lon1, lat2, lon2])\n",
    "\n",
    "    # Haversine formula\n",
    "    dlon = lon2 - lon1\n",
    "    dlat = lat2 - lat1\n",
    "    a = sin(dlat/2)**2 + cos(lat1) * cos(lat2) * sin(dlon/2)**2\n",
    "    c = 2 * atan2(sqrt(a), sqrt(1-a))\n",
    "    \n",
    "    # Radius of the Earth in kilometers (mean value)\n",
    "    radius = 6371.0\n",
    "    \n",
    "    # Calculate the distance\n",
    "    distance = radius * c\n",
    "    \n",
    "    return distance"
   ]
  },
  {
   "cell_type": "code",
   "execution_count": 7,
   "metadata": {},
   "outputs": [],
   "source": [
    "merged_dataset['distance'] = merged_dataset.apply(lambda row: haversine(row['start_lat'], row['start_lng'], row['end_lat'], row['end_lng']), axis=1)"
   ]
  },
  {
   "cell_type": "code",
   "execution_count": 35,
   "metadata": {},
   "outputs": [
    {
     "name": "stdout",
     "output_type": "stream",
     "text": [
      "<class 'pandas.core.frame.DataFrame'>\n",
      "Int64Index: 3767347 entries, 0 to 3776255\n",
      "Data columns (total 14 columns):\n",
      " #   Column              Dtype         \n",
      "---  ------              -----         \n",
      " 0   ride_id             object        \n",
      " 1   rideable_type       object        \n",
      " 2   started_at          datetime64[ns]\n",
      " 3   ended_at            datetime64[ns]\n",
      " 4   start_station_name  object        \n",
      " 5   start_station_id    object        \n",
      " 6   end_station_name    object        \n",
      " 7   end_station_id      object        \n",
      " 8   start_lat           float32       \n",
      " 9   start_lng           float32       \n",
      " 10  end_lat             float32       \n",
      " 11  end_lng             float32       \n",
      " 12  member_casual       object        \n",
      " 13  distance            float32       \n",
      "dtypes: datetime64[ns](2), float32(5), object(7)\n",
      "memory usage: 359.3+ MB\n"
     ]
    }
   ],
   "source": [
    "merged_dataset = merged_dataset.astype({'distance': 'float32'})\n",
    "merged_dataset.info()"
   ]
  },
  {
   "cell_type": "code",
   "execution_count": 34,
   "metadata": {},
   "outputs": [],
   "source": [
    "merged_dataset.to_csv(\"/Users/galbeeir/Desktop/CitiBike Data/CitiBike.csv\")"
   ]
  },
  {
   "cell_type": "code",
   "execution_count": 36,
   "metadata": {},
   "outputs": [
    {
     "name": "stderr",
     "output_type": "stream",
     "text": [
      "/var/folders/06/47q5ms9540g4mnz8nnnyl32m0000gn/T/ipykernel_68040/2817263657.py:3: DtypeWarning: Columns (6,8) have mixed types. Specify dtype option on import or set low_memory=False.\n",
      "  df = pd.read_csv(csv_path)\n"
     ]
    }
   ],
   "source": [
    "def export_to_zip(csv_path, zip_path_1, compression_level=9):\n",
    "    # Read the csv file\n",
    "    df = pd.read_csv(csv_path)\n",
    "\n",
    "    # Create a ZipFile and add the filtered data as separate CSV files with compression\n",
    "    with zipfile.ZipFile(zip_path_1, 'w', zipfile.ZIP_DEFLATED, compresslevel=compression_level) as zip_file_1:\n",
    "        zip_file_1.writestr('citibike.csv', df.to_csv(index=False))\n",
    "    \n",
    "\n",
    "csv_cleaned_path = \"CitiBike.csv\"\n",
    "zip_cleaned_path_1 = \"/Users/galbeeir/Desktop/CitiBike Data/citybike.zip\"\n",
    "\n",
    "export_to_zip(csv_cleaned_path, zip_cleaned_path_1)\n"
   ]
  }
 ],
 "metadata": {
  "kernelspec": {
   "display_name": "dev",
   "language": "python",
   "name": "python3"
  },
  "language_info": {
   "codemirror_mode": {
    "name": "ipython",
    "version": 3
   },
   "file_extension": ".py",
   "mimetype": "text/x-python",
   "name": "python",
   "nbconvert_exporter": "python",
   "pygments_lexer": "ipython3",
   "version": "3.10.11"
  },
  "orig_nbformat": 4
 },
 "nbformat": 4,
 "nbformat_minor": 2
}
